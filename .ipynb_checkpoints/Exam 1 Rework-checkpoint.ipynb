{
 "cells": [
  {
   "cell_type": "markdown",
   "metadata": {},
   "source": [
    "# Exam 1 | Rework\n",
    "### Henry Hunt"
   ]
  },
  {
   "cell_type": "code",
   "execution_count": 79,
   "metadata": {},
   "outputs": [],
   "source": [
    "#Initial Imports\n",
    "import numpy as np"
   ]
  },
  {
   "cell_type": "markdown",
   "metadata": {},
   "source": [
    "### Question 1 (48 pts)\n",
    "A Liquid Oxygen – Methane  rocket engine of 25,000-N  thrust is to be designed to operate at a chamber pressure of 1000 psia at standard sea level conditions.\n",
    "Assume that the: \n",
    "- Velocity Correction Factor” = 0.97 & Thrust Correction Factor = 0.98\n",
    "- Universal Gas Constant, R’ = 1544 ft-lbf/lb-mol-°R = 8314.3 J/kg-mol-K\n",
    "\n",
    "Determine:\n",
    "- a)\t$v_2$\n",
    "- b)\t$v_t$\n",
    "- c)\tIdeal Nozzle Exit Area\n",
    "- d)\tIdeal Specific Impulse\n",
    "- e)\tActual Specific Impulse\n",
    "- f)\tIdeal $C_F$\n",
    "- g)\tActual $C_F$\n",
    "- h)\tActual Nozzle Throat Area\n",
    "- i)\tNozzle Area Ratio\n",
    "- j)\tActual Nozzle Exit Area, $A_2$\n",
    "- k)\tIdeal $M_2$\n",
    "- l)\tIdeal $T_2$\n",
    " \n",
    "\n"
   ]
  },
  {
   "cell_type": "code",
   "execution_count": null,
   "metadata": {},
   "outputs": [],
   "source": [
    "F=25000\n",
    "P1=1000\n",
    "VCF = 0.97\n",
    "TCF = 0.98\n",
    "R_=1544\n",
    "\n",
    "T2=T1*(P1/P2)**((1-k)/k)\n",
    "V2=M2*np.sqrt(k*R*T2)"
   ]
  },
  {
   "cell_type": "markdown",
   "metadata": {},
   "source": [
    "### Question 2 (18 pts)\n",
    "A rocket engine with a C-D nozzle is __designed for ideal__ operation at $P_1/P_3=200$. Assuming that \n",
    "k =1.23, calculate the following:\n",
    "- A. nozzle area ratio. \n",
    "- B. optimum Mach number at the nozzle exit\n",
    "- C. ideal $T_1/T_3$.\n"
   ]
  },
  {
   "cell_type": "code",
   "execution_count": 80,
   "metadata": {},
   "outputs": [
    {
     "name": "stdout",
     "output_type": "stream",
     "text": [
      "The Nozzle Area Ratio is:\n",
      " \t 18.737 \n",
      "\n",
      "The Optimum Mach Number at Nozzle Exit is:\n",
      "\t 3.839 \n",
      "\n",
      "The Ideal Temperature Ratio (T1/T3) is:\n",
      "\t 2.693\n"
     ]
    }
   ],
   "source": [
    "#Given Values\n",
    "k=1.23\n",
    "P1_P3=200\n",
    "P1_P2=P1_P3 #Ideal Operation Conditions\n",
    "\n",
    "#Calculating the Area Ratio | Unitless\n",
    "ε=((((k+1)/2)**(1/(k-1)))*((1/P1_P2)**(1/k))*np.sqrt(((k+1)/(k-1))*(1-(1/P1_P2)**((k-1)/k))))**(-1)\n",
    "print(\"The Nozzle Area Ratio is:\\n \\t\", round(ε,3),\"\\n\")\n",
    "\n",
    "#Calculating the Optimum Mach Number at Nozzle Exit | Unitless\n",
    "M2=1      #Setting a test number to 1\n",
    "res=0.001 #Setting the resolution of the calcualtion increase | Unitless\n",
    "εt=ε-1    #Initial Value of Area Ratio Modified | Unitless\n",
    "\n",
    "#Looping the Area Ratio Equation to solve for Mach at Exit\n",
    "while (εt < ε):\n",
    "    εt=(1/M2)*((1+((k-1)/2)*M2**2)/((k+1)/2))**((k+1)/(2*(k-1))) #Equation 3-14 | Ideal Nozzle Area Ratio | Unitless\n",
    "    M2=M2+res\n",
    "print(\"The Optimum Mach Number at Nozzle Exit is:\\n\\t\", round(M2,3),\"\\n\")\n",
    "\n",
    "#Calculating the Ideal Temperature Ratio between chamber and atmo. | Unitless\n",
    "T1_T3=P1_P3**((k-1)/k)\n",
    "print(\"The Ideal Temperature Ratio (T1/T3) is:\\n\\t\", round(T1_T3,3))\n"
   ]
  },
  {
   "cell_type": "markdown",
   "metadata": {},
   "source": [
    "### Question 3 (34 pts)\n",
    "The converging-diverging (CD) nozzle of an ideal rocket has an area ratio of 45 and operates in ideal conditions in a steady flow. The chamber pressure and temperature are 1300 psia and 2100 °R respectively. Assuming k = 1.27, and R = 1716 (ft. lbf)/(Slug °R), calculate:\n",
    "- a) The Mach number at the nozzle exit.\n",
    "- b) The static temperature at the nozzle exit.\n",
    "- c) The static pressure at the nozzle exit.  \t  \n",
    "- d) The velocity at the throat.\n",
    "- e) The velocity at the nozzle exit plane.\n",
    "- f) Theoretical maximum velocity at the nozzle exit plane at any large value of nozzle pressure ratio. Can this value be reached?\n"
   ]
  },
  {
   "cell_type": "code",
   "execution_count": 81,
   "metadata": {},
   "outputs": [
    {
     "name": "stdout",
     "output_type": "stream",
     "text": [
      "Optimum Mach Number at Nozzle Exit is:\n",
      "\t 4.771 \n",
      "\n",
      "Static Temperature at the Nozzle Exit:\n",
      "\t 515.6 °R or 286.44 °K\n",
      "\n",
      "Static Pressure at the Nozzle Exit:\n",
      "\t 1.76 psi or 12123.86 Pa\n",
      "\n",
      "Velocity at the Throat:\n",
      "\t 2008.039 ft/s or 612.1 m/s\n",
      "\n",
      "Velocity at the Nozzle Exit Plane:\n",
      "\t 5057.386 ft/s or 1541.5 m/s\n",
      "\n",
      "Theoretical Maximum Velocity at the Nozzle Exit Plane:\n",
      "\t 5822.4 ft/s or 1774.7 m/s\n"
     ]
    }
   ],
   "source": [
    "ε=45\n",
    "P1=1300\n",
    "T1=2100\n",
    "k=1.27\n",
    "R=1716\n",
    "\n",
    "#Calculating the Optimum Mach Number at Nozzle Exit | Unitless\n",
    "M2=1      #Setting a test number to 1\n",
    "res=0.001 #Setting the resolution of the calcualtion increase | Unitless\n",
    "εt=ε-1    #Initial Value of Area Ratio Modified | Unitless\n",
    "\n",
    "#Looping the Area Ratio Equation to solve for Mach at Exit\n",
    "while (εt < ε):\n",
    "    εt=(1/M2)*((1+((k-1)/2)*M2**2)/((k+1)/2))**((k+1)/(2*(k-1))) #Equation 3-14 | Ideal Nozzle Area Ratio | Unitless\n",
    "    M2=M2+res\n",
    "print(\"Optimum Mach Number at Nozzle Exit is:\\n\\t\", round(M2,3),\"\\n\")\n",
    "\n",
    "T2=T1*(P1/P2)**((1-k)/k)\n",
    "print(\"Static Temperature at the Nozzle Exit:\\n\\t\", round(T2,2),\"°R or\", round(T2*5/9,2), \"°K\\n\")\n",
    "\n",
    "P2=P1*(1+0.5*(k-1)*M2**2)**(-k/(k-1))\n",
    "print(\"Static Pressure at the Nozzle Exit:\\n\\t\", round(P2,2),\"psi or\", round(P2*6894.757,2), \"Pa\\n\")\n",
    "\n",
    "Tt=2*T1/(k+1)\n",
    "Vt=np.sqrt(k*R*Tt)\n",
    "print(\"Velocity at the Throat:\\n\\t\", round(Vt,3), \"ft/s or\", round(Vt/3.2808,1), \"m/s\\n\")\n",
    "\n",
    "V2=M2*np.sqrt(k*R*T2)\n",
    "print(\"Velocity at the Nozzle Exit Plane:\\n\\t\", round(V2,3), \"ft/s or\", round(V2/3.2808,1), \"m/s\\n\")\n",
    "\n",
    "V2MAX=np.sqrt((2*R*k*T1)/(k-1))\n",
    "print(\"Theoretical Maximum Velocity at the Nozzle Exit Plane:\\n\\t\", round(V2MAX,1),\"ft/s or\", round(V2MAX/3.2808,1), \"m/s\")\n"
   ]
  },
  {
   "cell_type": "code",
   "execution_count": null,
   "metadata": {},
   "outputs": [],
   "source": []
  }
 ],
 "metadata": {
  "kernelspec": {
   "display_name": "Python 3",
   "language": "python",
   "name": "python3"
  },
  "language_info": {
   "codemirror_mode": {
    "name": "ipython",
    "version": 3
   },
   "file_extension": ".py",
   "mimetype": "text/x-python",
   "name": "python",
   "nbconvert_exporter": "python",
   "pygments_lexer": "ipython3",
   "version": "3.7.4"
  }
 },
 "nbformat": 4,
 "nbformat_minor": 2
}
