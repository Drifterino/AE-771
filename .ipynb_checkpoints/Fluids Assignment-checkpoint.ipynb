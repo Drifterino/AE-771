{
 "cells": [
  {
   "cell_type": "markdown",
   "metadata": {},
   "source": [
    "# Fluids Assignment + Example Problem | AE 771\n",
    "## Coded by Henry Hunt\n",
    "Calculate the pressure drop through a regenerative cooling passage with the following data:\n",
    "- Passage is a rectangular steel pipe with dimensions of 1/8'' x 3/16''\n",
    "- Coolant liquid is Aniline with γ=60.6 lb/ft3\n",
    "- Length of the cooling passage is 83''\n",
    "- Average cooling velocity is 21 ft/sec\n",
    "- Average Reynolds Number of the flow in the cooling passage, Re = 16,600"
   ]
  },
  {
   "cell_type": "code",
   "execution_count": 8,
   "metadata": {},
   "outputs": [
    {
     "name": "stdout",
     "output_type": "stream",
     "text": [
      "The pressure drop is: 528153.3 Pa\n",
      "Or equal to: 76.6 Psi or 11030.7 Psf\n"
     ]
    }
   ],
   "source": [
    "#Input Variables\n",
    "PassW = (1/8)/12     #Width of passage | ft\n",
    "PassH = (3/16)/12    #Height of passage | ft\n",
    "γ=60.6               #Aniline/coolant | lb/ft3\n",
    "Lp=83/12             #Length of Passage | ft\n",
    "Vc=21                #Average velocity of coolant | ft/s\n",
    "Re=16600             #Average Reynolds number | unitless\n",
    "ε=0.00015            #slippyness of commercial steel\n",
    "\n",
    "#Conversions\n",
    "ρ=γ*16.01846        #Density of Aniline | kg/m^2\n",
    "PassW=PassW*0.3048  #Passage Width | m\n",
    "PassH=PassH*0.3048  #Passage height | m\n",
    "Lp=Lp*0.3048        #Passage length | m\n",
    "Vc=Vc*0.3048        #Velocity flow | m/s\n",
    "\n",
    "\n",
    "#Calculations\n",
    "Ar=PassW*PassH       #Area of pasage | ft^2\n",
    "Pr=(PassW+PassH)*2   #Permimeter of Passage | ft\n",
    "D=4*Ar/Pr            #Diameter of Passage | ft\n",
    "εd=ε/D               #Epsilon by diameter\n",
    "f=0.048              #Friction factor from figure 8.20 using Epsilon over Diameter and Reynolds\n",
    "ΔP = f*(Lp/D)*0.5*ρ*Vc**2  #Pressure drop for horizontal pipe | Pa\n",
    "print(\"The pressure drop is:\",round(ΔP,1), \"Pa\")\n",
    "print(\"Or equal to:\",round(ΔP*0.00014503773,1), \"Psi or\",round(ΔP*0.00014503773*12*12,1), \"Psf\")"
   ]
  },
  {
   "cell_type": "markdown",
   "metadata": {},
   "source": [
    "## Example Problem\n",
    "### Comparison of laminar or Turbulent Pressure Drop\n",
    "Standard air flows though a 4 mm diameter tube with a velocuty of 50 m/s. How could this be maintained as laminar.\n",
    "- Determine the pressure drop in 0.1 m section of the tube (assuming laminar)\n",
    "- Do it again for trubulent"
   ]
  },
  {
   "cell_type": "code",
   "execution_count": 13,
   "metadata": {},
   "outputs": [
    {
     "name": "stdout",
     "output_type": "stream",
     "text": [
      "The laminar pressure drop is: 0.179 kPa\n",
      "\n",
      "The turbulent pressure drop is: 1.076 kPa\n"
     ]
    }
   ],
   "source": [
    "#Input Variables\n",
    "D=0.004         #Diameter of tube | m\n",
    "V=50            #Velocity in Tube | m/s\n",
    "Lp=0.1          #Length of pipe | m\n",
    "ρ=1.23          #Density of Air | kg/m^3\n",
    "μ=1.79*10**(-5) #Viscosity of Air | N*s/m^2\n",
    "Re=ρ*V*D/μ #Reynolds Number | Unitless\n",
    "\n",
    "#Laminar Flow\n",
    "f=64/Re #For Laminar Flow | Unitless\n",
    "ΔP = f*(Lp/D)*0.5*ρ*V**2  #Pressure drop for horizontal pipe | Pa\n",
    "print(\"The laminar pressure drop is:\",round(ΔP/1000,3), \"kPa\\n\")\n",
    "\n",
    "#Turbulent Flow\n",
    "ε=0.0015        #Slippiness of material | mm\n",
    "εd=ε/D*1000     #Value for Moody Chart\n",
    "f=0.028         #Friction Factor based on the epsilon diameter ratio and the Reynold's number\n",
    "ΔP = f*(Lp/D)*0.5*ρ*V**2  #Pressure drop for horizontal pipe | Pa\n",
    "print(\"The turbulent pressure drop is:\",round(ΔP/1000,3), \"kPa\")"
   ]
  },
  {
   "cell_type": "code",
   "execution_count": null,
   "metadata": {},
   "outputs": [],
   "source": []
  }
 ],
 "metadata": {
  "kernelspec": {
   "display_name": "Python 3",
   "language": "python",
   "name": "python3"
  },
  "language_info": {
   "codemirror_mode": {
    "name": "ipython",
    "version": 3
   },
   "file_extension": ".py",
   "mimetype": "text/x-python",
   "name": "python",
   "nbconvert_exporter": "python",
   "pygments_lexer": "ipython3",
   "version": "3.7.4"
  }
 },
 "nbformat": 4,
 "nbformat_minor": 2
}
