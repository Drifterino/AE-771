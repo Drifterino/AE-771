{
 "cells": [
  {
   "cell_type": "markdown",
   "metadata": {},
   "source": [
    "# AE 771 | Homework \\#6 | Rocket Propulsion | Ray Taghavi\n",
    "### Code Written by Henry Hunt"
   ]
  },
  {
   "cell_type": "code",
   "execution_count": 1,
   "metadata": {},
   "outputs": [],
   "source": [
    "#Python Initiation\n",
    "import numpy as np"
   ]
  },
  {
   "cell_type": "markdown",
   "metadata": {},
   "source": [
    "## Example 3-1 | _Page 60 of Rocket Propulsion Elements_\n",
    "Design an ideal nozzle for a rocket propulsion system that operates at 25 km\n",
    "altitude and delivers 5000 N thrust with a chamber pressure of 2.039 MPa and a chamber temperature\n",
    "of 2800 K. For this particular propellant, k = 1.20 and R = 360 J∕kg-K. Determine\n",
    "the throat area, exit area, throat temperature, and exit velocity for optimum expansion."
   ]
  },
  {
   "cell_type": "code",
   "execution_count": 31,
   "metadata": {},
   "outputs": [
    {
     "name": "stdout",
     "output_type": "stream",
     "text": [
      "0.0012501226091221186 0.016675108836431987 2545.454545454545 2850.5978712584915 2850.5978712584915 1.7540180080863468\n",
      "For Optimum Expansion the:\n",
      "Throat Area is 13.32 cm\n",
      "Exit Area is 799.0 cm\n",
      "Throat Temperature is 2545 K\n",
      "Exit Velocity is 2851 m/sec\n"
     ]
    }
   ],
   "source": [
    "alt=25 #Altitude in km | Used for finding atmospheric pressure\n",
    "P3=2549 #Atmospheric Pressure | Pa\n",
    "P2=P3   #Ideal Exhaust | Pa\n",
    "F=5000  #Force of Thrust | Newtons\n",
    "P1=2039000 #Chamber Pressure | Pa\n",
    "T1=2800    #Chamber Temperature | ⁰K\n",
    "k=1.2      #Ratio of Specific Heats\n",
    "R=360      #Gas Constant | J/kg-K\n",
    "\n",
    "#Calculations\n",
    "P2_P1=P2/P1          #Creating a Pressure Ratio Value\n",
    "At_A2=((k+1)/2)**(1/(k-1))*(P2_P1)**(1/k)*np.sqrt((k+1)/(k-1)*(1-(P2_P1)**((k-1)/k))) #Area Ratio Equation | Unitless\n",
    "Tt=2*T1/(k+1)        #Throat Temperature Equation | K\n",
    "V2=np.sqrt((2*k)/(k-1)*R*T1*(1-(P2_P1)**((k-1)/k))) #Exit Velocity Equation | m/s\n",
    "c=V2                 #Effective Exhaust Velocity since P2=P3 | m/s\n",
    "m_=F/c               #Mass Flow Rate fromn Simplified Thrust Equation | kg/s\n",
    "At=m_/P1*np.sqrt((R*T1)/(k*(2/(k+1))**((k+1)/(k-1)))) #Area Throat Equation | m^2\n",
    "At=At*100*100        #Converting to cm^2\n",
    "A2=At/At_A2          #Calcualting the Exit Area Using the Ratio | cm^2\n",
    "\n",
    "#Output Values for Optimum Expansion\n",
    "#print(P2_P1,At_A2,Tt,V2,c,m_)\n",
    "print(\"For Optimum Expansion the:\")\n",
    "print(\"Throat Area is\",round(At,2),\"cm\")\n",
    "print(\"Exit Area is\",round(A2),\"cm\")\n",
    "print(\"Throat Temperature is\",round(Tt),\"K\")\n",
    "print(\"Exit Velocity is\", int(round(c)),\"m/sec\")"
   ]
  },
  {
   "cell_type": "code",
   "execution_count": null,
   "metadata": {},
   "outputs": [],
   "source": []
  }
 ],
 "metadata": {
  "kernelspec": {
   "display_name": "Python 3",
   "language": "python",
   "name": "python3"
  },
  "language_info": {
   "codemirror_mode": {
    "name": "ipython",
    "version": 3
   },
   "file_extension": ".py",
   "mimetype": "text/x-python",
   "name": "python",
   "nbconvert_exporter": "python",
   "pygments_lexer": "ipython3",
   "version": "3.7.4"
  }
 },
 "nbformat": 4,
 "nbformat_minor": 2
}
