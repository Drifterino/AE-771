{
 "cells": [
  {
   "cell_type": "markdown",
   "metadata": {},
   "source": [
    "# AE 771 | Homework \\#8 | Rocket Propulsion | Ray Taghavi\n",
    "### Code Written by Henry Hunt"
   ]
  },
  {
   "cell_type": "code",
   "execution_count": 1,
   "metadata": {},
   "outputs": [],
   "source": [
    "#Importing Libraries\n",
    "import numpy as np"
   ]
  },
  {
   "cell_type": "markdown",
   "metadata": {},
   "source": [
    "## Part A. Example 6.1 Worksheet\n",
    "A liquid oxygen–liquid hydrogen rocket thrust chamber that produces 10,000-lbf thrust, operates at a chamber pressure of 1000 psia, a mixture ratio of 3.40, has exhaust products with a mean molecular mass 𝔐 of 8.90 lbm/lb-mol, combustion temperature $T_1$ of 4380∘F, and specific heat ratio of 1.26. Determine the nozzle throat area, nozzle exit area for optimum operation at an altitude where $P_3$ = $P_2$ = 1.58 psia, the propellant sea-level weight and the volume flow rates, and the total propellant requirements for 2.5 min of operation. For this problem, assume that the actual specific impulse Is is 97% of theoretical and that the thrust coefficient $C_F$ is 98% of the ideal value."
   ]
  },
  {
   "cell_type": "code",
   "execution_count": 3,
   "metadata": {},
   "outputs": [],
   "source": [
    "#Givens\n",
    "F=10000 #Thrust | lbf\n",
    "P1=1000 #Chamber Pressure | psia\n",
    "MR=3.4  #Mixture Ratio | unitless\n",
    "𝔐=8.90  #lbm/lb-mol\n",
    "T1=4380 #Combustion Temperature | Fahrenheit\n",
    "T1=T1+459.67 # #Combustion Temperature | Rankine\n",
    "k=1.26  #Ratio of Specific Heats | unitless\n",
    "P3=1.58 #Ambient Pressure | psia\n",
    "P2=P3   #Optimum Operation\n",
    "VCF=0.97 #Velocity correction factor | unitless\n",
    "TCF=0.98 #Thrust correction factor | unitless\n",
    "go=32.2  #Acceleration due to gravity |\n",
    "tp=2.5   #Time of propulsion | minutes\n",
    "tp=tp*60 #Time of propulsion | seconds\n",
    "\n",
    "#Fuel | Liquid Oxygen + Liquid Hydrogen\n",
    "MR = 3.40     #Mass Ratio | Unitless\n",
    "γf =          #Specific Weight of Fuel\n",
    "γo =          #Specific Weight of Oxidizer\n",
    "SG = 0.26     #Specific Gravity | Unitless\n",
    "T1 = 2959     #Chamber Temperature | Kelvin\n",
    "CSTAR = 2428  #Chamber Velocity | m/sec\n",
    "MW = 8.90     #Molecular Weight | kg/mol\n",
    "Isp = 386     #Isp Frozen | seconds\n",
    "k = 1.26      #Ratio of Specific Heats | Unitless\n",
    "\n",
    "#Find\n",
    "V2\n",
    "At= #Nozzle Throat Area |\n",
    "At_A=F/(P1*CF_A)\n",
    "A2= #Ideal Nozzle Exit Area | \n",
    "M2=\n",
    "Wdotp=F/Isp           #Weight flow rate of propellant |\n",
    "Wdoto=MR*Wdotp/(MR+1) #Weight flow rate of oxidizer |\n",
    "Wdotf=Wdotp/(MR+1)    #Weight flow rate of fuel\n",
    "Wo=Wdoto*tp           #Total oxidizer required for 2.5 min of operation |\n",
    "Wf=Wdotf*tp           #Total fuel required for 2.5 min of operation |\n",
    "Wp=Wo+Wf              #Total Weight of Propellant at Sea Level |\n",
    "⨈doto=Wdoto/γo       #Volume Flow Rate of Oxidizer |\n",
    "⨈dotf=Wdotf/γf       #Volume Flow Rate of Fuel |\n",
    "⨈o=⨈doto*tp         #Volume of Oxidizer |\n",
    "⨈f=⨈dotf*tp         #Volume of Fuel |\n",
    "\n",
    "#Calculate Ideal and Actual Values\n",
    "#Print an output table to include values at their respective units\n"
   ]
  },
  {
   "cell_type": "markdown",
   "metadata": {},
   "source": [
    "## Part B. Conical Nozzle Design\n",
    "Design a Conical Nozzle with 15° half angles and an 80% Rao Nozzle for the above engine. Print the CAD models."
   ]
  },
  {
   "cell_type": "code",
   "execution_count": null,
   "metadata": {},
   "outputs": [],
   "source": [
    "#Use the program already developed as a stand alone function?"
   ]
  },
  {
   "cell_type": "markdown",
   "metadata": {},
   "source": [
    "## Part C. Aerospike Program\n",
    "Use the 'aerospike' program to design an ideal nozzle for the above using the \"method of characterisitcs\". Print the software outputs."
   ]
  },
  {
   "cell_type": "code",
   "execution_count": null,
   "metadata": {},
   "outputs": [],
   "source": [
    "#This is just an aero lab thing..."
   ]
  },
  {
   "cell_type": "markdown",
   "metadata": {},
   "source": [
    "## Part D. Table 5.5\n",
    "Type up table 5.5 into my computer program"
   ]
  },
  {
   "cell_type": "code",
   "execution_count": null,
   "metadata": {},
   "outputs": [],
   "source": [
    "#Already did this but it need to be IN the code."
   ]
  }
 ],
 "metadata": {
  "kernelspec": {
   "display_name": "Python 3",
   "language": "python",
   "name": "python3"
  },
  "language_info": {
   "codemirror_mode": {
    "name": "ipython",
    "version": 3
   },
   "file_extension": ".py",
   "mimetype": "text/x-python",
   "name": "python",
   "nbconvert_exporter": "python",
   "pygments_lexer": "ipython3",
   "version": "3.7.4"
  }
 },
 "nbformat": 4,
 "nbformat_minor": 2
}
