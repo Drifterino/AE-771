{
 "cells": [
  {
   "cell_type": "markdown",
   "metadata": {},
   "source": [
    "# Injector Design | AE 771\n",
    "## Created by Henry Hunt | April 2020\n",
    "Design a doublet injector for Example 6.1. \n",
    "\n",
    "Deliverables:\n",
    "- Provide a table of your calculated and assumed values.\n",
    "- Provide images of the CAD model. Please dimension your CAD images. \n",
    "\n",
    "This is due before the start of class on Friday 4/10 (12:00pm CT). \n",
    "Extra Credit: Design a triplet injector for Example 6.1.\n"
   ]
  },
  {
   "cell_type": "code",
   "execution_count": 43,
   "metadata": {},
   "outputs": [],
   "source": [
    "#Importing Libraries\n",
    "import matplotlib\n",
    "import numpy as np\n",
    "import matplotlib.pyplot as plt\n",
    "import plotly.graph_objects as go\n",
    "from sympy import Symbol\n",
    "import time\n",
    "import math"
   ]
  },
  {
   "cell_type": "code",
   "execution_count": 44,
   "metadata": {
    "scrolled": true
   },
   "outputs": [
    {
     "name": "stdout",
     "output_type": "stream",
     "text": [
      "Actual Oxidizer Mass Flowrate 8.411 kg/sec\n",
      "Actual Fuel Mass Flowrate 2.471 kg/sec\n",
      "Liquid Weight Density of Oxygen (Oxidizer) 11168.886 N/m^3\n",
      "Liquid Weight Density of Hydrogen (Fuel) 691.183 N/m^3\n",
      "Chamber Pressure 6894750.0 Pa\n",
      "Change in Pressure 1378950.0 Pa\n",
      "Discharge Coefficient of Injector 0.9\n",
      "Diameter of the Chamber 136.544 mm\n",
      "Area of the Chamber 14643.266 mm^2\n",
      "Area of the Holes 0.049 mm^2\n",
      "Injector Angle 25 degrees\n",
      "Required Area of Oxidizer Injector 53.251 mm^2\n",
      "Required Area of Fuel Injector 62.891 mm^2\n",
      "Final Area of Oxidizer Injector 53.251 mm^2\n",
      "Final Area of Fuel Injector 62.439 mm^2\n",
      "Oxidizer Hole Diameter 0.23 mm\n",
      "Fuel Hole Diameter 0.25 mm\n",
      "Radial Space Between Holes 2.276 mm\n",
      "Number of Circle Pairs of Oxy/Fuel Holes 15.0\n"
     ]
    }
   ],
   "source": [
    "#Q=Cd*A*(2*ΔP/ρ)**(1/2) #Volumetric Flow Rate | Eq 8-1\n",
    "#m_dot=Q*ρ=Cd*A*(2*ρ*ΔP)**(1/2) #Mass Flow Rate | Eq 8-2\n",
    "Wdoto_A = 18.55 #Actual Oxidizer Weight Flowrate | lbf/sec\n",
    "Wdotf_A = 5.45  #Actual Fuel Weight Flowrate | lbf/sec\n",
    "Mdoto_A = Wdoto_A*4.44822/9.81 #Mass Flowrate of Oxidizer | kg/s\n",
    "Mdotf_A = Wdotf_A*4.44822/9.81 #Mass Flowrate of Fuel | kg/s\n",
    "ρo=71.1                #Liquid Weight Density of Oxygen (Oxidizer) | lbf/ft^3\n",
    "ρf=4.4                 #Liquid Weight Density of Hydrogen (Fuel) | lbf/ft^3\n",
    "ρo=ρo*157.087          #Liquid Weight Density of Oxygen (Oxidizer) | N/m^3\n",
    "ρf=ρf*157.087          #Liquid Weight Density of Hydrogen (Fuel) | N/m^3\n",
    "P1=1000                #Chamber Pressure | psia\n",
    "P1=P1*6894.75          #Chamber Pressure |Pa\n",
    "ΔP = 0.2*P1            #Change in pressure | Pa\n",
    "Cd = 0.9               #Discharge Coefficient of Injector | Table 8-2 | Unitless\n",
    "Dc = 5.375765544700029 #Diameter of the Chamber | inches\n",
    "Dc = Dc*25.4           #Diameter of the Chamber | mm\n",
    "Ac=(np.pi*Dc**2)/4     #Calculating the Area of the Chamber | mm**2\n",
    "θI = 25                #Injector Angle | deg | Pg 280\n",
    "\n",
    "A_Io = (Mdoto_A)/(Cd*((2*ρo*ΔP)**(1/2))) #Area of Oxidizer Injector\n",
    "A_If = (Mdotf_A)/(Cd*((2*ρf*ΔP)**(1/2))) #Area of Fuel Injector\n",
    "Ao=A_Io*1000*1000                 #Converting m**2 to mm**2\n",
    "Af=A_If*1000*1000                 #Converting m**2 to mm**2\n",
    "HoleDiam = 0.25                   #Diameter of the holes | mm\n",
    "HoleSize=(np.pi*HoleDiam**2)/4    #Calculating the Area of the Holes mm**2\n",
    "Onum=Ao/HoleSize                  #Number of Oxidizer holes\n",
    "Fnum=Af/HoleSize                  #Number of Fuel holes\n",
    "Treelines = 30                    #Number of Lines of Fuel & Oxy\n",
    "TreeSpace = (Dc/2)/Treelines      #Spacing between lines | mm\n",
    "TreeComp = 5 #How much space a doublet takes up from outer radii | mm\n",
    "\n",
    "#Loop to Calculate the Layout of the Injector\n",
    "Ring = 1\n",
    "OxArea = 0\n",
    "FuelArea = 0\n",
    "while Ring <= Treelines:\n",
    "    TreeC = 2*np.pi*TreeSpace*Ring #Circumference of the ring\n",
    "    RingDoubles = TreeC//TreeComp\n",
    "    AngleSpace = 360//RingDoubles\n",
    "    if (Ring%2 == 0):\n",
    "        AreaAdd = RingDoubles*HoleSize\n",
    "        OxArea = OxArea+(AreaAdd*2)\n",
    "    else:\n",
    "        AreaAdd = RingDoubles*HoleSize\n",
    "        FuelArea = FuelArea+(AreaAdd*2)\n",
    "        \n",
    "    #print(\"For Ring\", Ring,\"there are\",RingDoubles,\"doublets with an angle of:\",AngleSpace)\n",
    "    Ring=Ring+1\n",
    "    \n",
    "#Estiamtion Calculation for Ozidizer Hole Variance\n",
    "ARatio=Ao/FuelArea\n",
    "D_OxyNew=((HoleSize*ARatio*4)/np.pi)**(1/2) #New Recommended Diameter of the Oxidizer holes\n",
    "A_OxyNew=FuelArea/HoleSize*(D_OxyNew**2*np.pi/4)\n",
    "\n",
    "#Printing out Final Values\n",
    "print(\"Actual Oxidizer Mass Flowrate\", round(Mdoto_A,3) ,\"kg/sec\")\n",
    "print(\"Actual Fuel Mass Flowrate\", round(Mdotf_A,3) ,\"kg/sec\")\n",
    "print(\"Liquid Weight Density of Oxygen (Oxidizer)\", round(ρo,3) ,\"N/m^3\")\n",
    "print(\"Liquid Weight Density of Hydrogen (Fuel)\", round(ρf,3) ,\"N/m^3\")\n",
    "print(\"Chamber Pressure\", round(P1,3) ,\"Pa\")\n",
    "print(\"Change in Pressure\", round(ΔP,3) ,\"Pa\")\n",
    "print(\"Discharge Coefficient of Injector\", round(Cd,3))\n",
    "print(\"Diameter of the Chamber\", round(Dc,3) ,\"mm\")\n",
    "print(\"Area of the Chamber\", round(Ac,3) ,\"mm^2\")\n",
    "print(\"Area of the Holes\", round(HoleSize,3) ,\"mm^2\")\n",
    "print(\"Injector Angle\", round(θI,3) ,\"degrees\")\n",
    "print(\"Required Area of Oxidizer Injector\", round(Ao,3) ,\"mm^2\")\n",
    "print(\"Required Area of Fuel Injector\", round(Af,3) ,\"mm^2\")\n",
    "print(\"Final Area of Oxidizer Injector\", round(A_OxyNew,3) ,\"mm^2\")\n",
    "print(\"Final Area of Fuel Injector\", round(FuelArea,3) ,\"mm^2\")\n",
    "print(\"Oxidizer Hole Diameter\", round(D_OxyNew,2) ,\"mm\")\n",
    "print(\"Fuel Hole Diameter\", round(HoleDiam,3) ,\"mm\")\n",
    "print(\"Radial Space Between Holes\", round(TreeSpace,3) ,\"mm\")\n",
    "print(\"Number of Circle Pairs of Oxy/Fuel Holes\", Treelines/2)"
   ]
  },
  {
   "cell_type": "code",
   "execution_count": null,
   "metadata": {},
   "outputs": [],
   "source": []
  }
 ],
 "metadata": {
  "kernelspec": {
   "display_name": "Python 3",
   "language": "python",
   "name": "python3"
  },
  "language_info": {
   "codemirror_mode": {
    "name": "ipython",
    "version": 3
   },
   "file_extension": ".py",
   "mimetype": "text/x-python",
   "name": "python",
   "nbconvert_exporter": "python",
   "pygments_lexer": "ipython3",
   "version": "3.7.4"
  }
 },
 "nbformat": 4,
 "nbformat_minor": 2
}
