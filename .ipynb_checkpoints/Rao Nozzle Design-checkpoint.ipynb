{
 "cells": [
  {
   "cell_type": "markdown",
   "metadata": {},
   "source": [
    "# AE 771 | Rao Nozzle Design | Rocket Propulsion | Ray Taghavi\n",
    "### Code Written by Henry Hunt | Due 2/26/2020\n",
    "\n",
    "https://core.ac.uk/download/pdf/154060575.pdf"
   ]
  },
  {
   "cell_type": "code",
   "execution_count": 1,
   "metadata": {},
   "outputs": [
    {
     "name": "stdout",
     "output_type": "stream",
     "text": [
      "0.26162\n"
     ]
    }
   ],
   "source": [
    "#Standard Input Values | Metric\n",
    "Rt = 0#Throat Radius\n",
    "Ln = 0#Nozzle Length\n",
    "ε = 0#Area Ratio\n",
    "θn = 15 #Nozzle Inflection Angle | Degrees\n",
    "\n",
    "def in2m(inch):\n",
    "    meter=inch*0.0254\n",
    "    return meter\n",
    "\n",
    "def m2in(meters):\n",
    "    inch=meters*39.3701\n",
    "    return inch\n",
    "\n",
    "#SSME Information for Nozzle\n",
    "Dth=in2m(10.3) #Throat Diameter | Inches\n",
    "D2=in2m(90.7) #Exit Diameter | Inches\n",
    "Ln= in2m(121) #Nozzle Length | Inches\n",
    "ε = 77.5 #Area Ratio | Unitless\n",
    "\n",
    "Rt=Dth/2 #Throat Radius | Meters\n",
    "Re=D2/2 #Exit Radius | Meters\n",
    "θe = 0 #Nozzle Exit Angle | Degrees\n",
    "\n",
    "\n",
    "\n",
    "#Plotting the Rao Nozzle\n",
    "\n",
    "\n",
    "#Plotting a Conical Nozzle with a half angle of 15⁰\n",
    "\n",
    "\n",
    "#Print Table of Nozzle Coordinates\n",
    "\n",
    "\n",
    "#CAD of Shortened Bell Nozzle\n",
    "\n",
    "\n",
    "#CAD of Conical Nozzle\n",
    "\n",
    "\n",
    "#Calculate the Nozzle Exit Angle\n",
    "\n",
    "\n",
    "#Calculate Conical Nozzle Length [Throat to Exit]"
   ]
  },
  {
   "cell_type": "code",
   "execution_count": null,
   "metadata": {},
   "outputs": [],
   "source": []
  }
 ],
 "metadata": {
  "kernelspec": {
   "display_name": "Python 3",
   "language": "python",
   "name": "python3"
  },
  "language_info": {
   "codemirror_mode": {
    "name": "ipython",
    "version": 3
   },
   "file_extension": ".py",
   "mimetype": "text/x-python",
   "name": "python",
   "nbconvert_exporter": "python",
   "pygments_lexer": "ipython3",
   "version": "3.7.4"
  }
 },
 "nbformat": 4,
 "nbformat_minor": 2
}
