{
 "cells": [
  {
   "cell_type": "markdown",
   "metadata": {},
   "source": [
    "# AE 771 | Homework \\#3 | Rocket Propulsion | Ray Taghavi\n",
    "### Code Written by Henry Hunt"
   ]
  },
  {
   "cell_type": "code",
   "execution_count": 25,
   "metadata": {},
   "outputs": [],
   "source": [
    "#Python Initiation\n",
    "#NO EXTERNAL PACKAGES NEEDED"
   ]
  },
  {
   "cell_type": "markdown",
   "metadata": {},
   "source": [
    "## Example 3-1 | _Page 51 of Rocket Propulsion Elements_\n",
    "An “ideal rocket engine” is designed to operate at sea level using a propellant\n",
    "whose products of combustion have a specific heat ratio k of 1.3. Determine the required chamber\n",
    "pressure if the exit Mach number is 2.52. Also determine the nozzle area ratio between the\n",
    "throat and exit."
   ]
  },
  {
   "cell_type": "code",
   "execution_count": 26,
   "metadata": {},
   "outputs": [
    {
     "name": "stdout",
     "output_type": "stream",
     "text": [
      "The required chamber pressure for a Mach number of 2.52 is 1.84 MPa.\n",
      "The ideal nozzle area ratio an exit Mach number of 2.52 is 3.02 (unitless).\n"
     ]
    }
   ],
   "source": [
    "#Given Variables\n",
    "M=2.52   #Exit Mach number | unitless\n",
    "P=0.1013 #Local Atmospheric Pressure | MPa\n",
    "k=1.3    #Specific Heat Ratio | Unitless\n",
    "M2=M     #Defining the Exit Mach in the Equation as (Exit) Mach Provided (useful for future calcualtions)\n",
    "Mt=1     #Mach Number at the Throat | unitless | Usually 1\n",
    "\n",
    "#Equations\n",
    "Po=P*(1+0.5*(k-1)*M**2)**(k/(k-1)) #Equation 3-13 | Stagnation Pressure | MPa\n",
    "ε=(1/M2)*((1+((k-1)/2)*M2**2)/((k+1)/2))**((k+1)/(2*(k-1))) #Equation 3-14 | Ideal Nozzle Area Ratio | Unitless\n",
    "\n",
    "#Outputs\n",
    "print('The required chamber pressure for a Mach number of',M,'is',round(Po,2),'MPa.')\n",
    "print('The ideal nozzle area ratio an exit Mach number of',M,'is',round(ε,2),'(unitless).')"
   ]
  }
 ],
 "metadata": {
  "kernelspec": {
   "display_name": "Python 3",
   "language": "python",
   "name": "python3"
  },
  "language_info": {
   "codemirror_mode": {
    "name": "ipython",
    "version": 3
   },
   "file_extension": ".py",
   "mimetype": "text/x-python",
   "name": "python",
   "nbconvert_exporter": "python",
   "pygments_lexer": "ipython3",
   "version": "3.7.4"
  }
 },
 "nbformat": 4,
 "nbformat_minor": 2
}
