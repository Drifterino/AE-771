{
 "cells": [
  {
   "cell_type": "markdown",
   "metadata": {},
   "source": [
    "# Exam 3 | AE 771\n",
    "### Henry Hunt | May 4th, 2020\n"
   ]
  },
  {
   "cell_type": "markdown",
   "metadata": {},
   "source": [
    "### Question 1\n",
    "Given a triplet injector with 127 fuel holes, Oxidizer Density is 1448 kg/m3, Fuel\n",
    "Density is 1000 kg/m3, Chamber Pressure: 1200 psia (assume 20% loss), Discharge\n",
    "coefficient of 0.88, Volumetric Flow Rate: 0.0187 m3/s"
   ]
  },
  {
   "cell_type": "code",
   "execution_count": 13,
   "metadata": {},
   "outputs": [
    {
     "name": "stdout",
     "output_type": "stream",
     "text": [
      "Part A: 0.26935735937767086 mm\n",
      "Part B: 2.76 kg/s\n",
      "Part C: 1.91 kg/s\n",
      "Part D: 1.91 kg/s\n"
     ]
    }
   ],
   "source": [
    "#Triplet Injector \n",
    "import numpy as np\n",
    "holes = 127\n",
    "OxDen = 1448 #Oxidizer density kg/m^3\n",
    "FuDen = 1000 #Fuel Density | kg/m^3\n",
    "ChPre = 1200 #Chamber Pressure | psia w/ 20% loss\n",
    "Cd = 0.88 #Discharge Coefficient\n",
    "VoRat = 0.0187 #Volume Flow Rate | m^3/s\n",
    "oxholes = holes*2\n",
    "\n",
    "#A | Diameter of the oxidizer hole in mm\n",
    "WdotOx_A=OxDen*VoRat\n",
    "MdotOx_A = WdotOx_A/9.81 #Mass Flowrate of Oxidizer | kg/s\n",
    "P1=ChPre*6894.75 #Chamber Pressure |Pa\n",
    "ΔP = 0.2*P1      #Change in pressure | Pa\n",
    "ρOx = OxDen*9.8\n",
    "A_IOx = (MdotOx_A)/(Cd*((2*ρOx*ΔP)**(1/2))) #Area of Oxidizer Injector\n",
    "Ao=A_IOx*1000*1000 #Converting m**2 to mm**2\n",
    "Ahole = Ao/oxholes\n",
    "Dox = (Ahole/(np.pi/4))**(1/2)\n",
    "\n",
    "print('Part A:',round(Dox,20),'mm')\n",
    "\n",
    "#B | Mass flow rate of the oxidizer.\n",
    "WdotOx_A=OxDen*VoRat\n",
    "MdotOx_A = WdotOx_A/9.81 #Mass Flowrate of Oxidizer | kg/s\n",
    "print('Part B:',round(MdotOx_A,2),'kg/s')\n",
    "\n",
    "#C | Weight flow rate of the oxidizer.\n",
    "WdotF_A=FuDen*VoRat\n",
    "MdotF_A = WdotF_A/9.81 #Mass Flowrate of Fuel | kg/s\n",
    "print('Part C:',round(MdotF_A,2),'kg/s')\n",
    "\n",
    "#D | Injection velocity in m/sec for oxidizer.\n",
    "\n",
    "print('Part D:',round(MdotF_A,2),'kg/s')"
   ]
  },
  {
   "cell_type": "markdown",
   "metadata": {},
   "source": [
    "### Question 2\n",
    "A rectangular pipe has the dimensions of 4” by 8”. Calculate the “equivalent diameter” of\n",
    "the pipe; Deq."
   ]
  },
  {
   "cell_type": "code",
   "execution_count": 16,
   "metadata": {},
   "outputs": [
    {
     "name": "stdout",
     "output_type": "stream",
     "text": [
      "The equivalent diameter is 0.444 ft\n"
     ]
    }
   ],
   "source": [
    "PassW = (4)/12     #Width of passage | ft\n",
    "PassH = (8)/12     #Height of passage | ft\n",
    "A=PassW*PassH      #Area of passage | ft^2\n",
    "P=(PassW+PassH)*2  #Permimeter of Passage | ft\n",
    "D=4*A/P            #Diameter of Passage | ft\n",
    "print('The equivalent diameter is',round(D,3),\"ft\")"
   ]
  },
  {
   "cell_type": "markdown",
   "metadata": {},
   "source": [
    "### Question 3\n",
    "The following data is given for a regeneratively cooled thrust chamber:\n",
    "- Wall Thickness 0.872 mm\n",
    "- Average conductivity 37.48 W/m2-K/m\n",
    "- Average gas temperature 3210 K or 2937 oC\n",
    "- Average liquid bulk temperature 293.1 K or 20.1 oC\n",
    "- Gas-film coefficient 127 W/m2 -oC\n",
    "- Liquid film coefficient 20,590 W/m2-oC"
   ]
  },
  {
   "cell_type": "code",
   "execution_count": null,
   "metadata": {},
   "outputs": [],
   "source": [
    "#A | The Overall Film Coefficient\n",
    "\n",
    "#B | The Steady State Heat Flux\n",
    "\n",
    "#C | Twg\n",
    "\n",
    "#D | Twl\n"
   ]
  },
  {
   "cell_type": "markdown",
   "metadata": {},
   "source": [
    "### Question 4\n",
    "A cooling passage of a regeneratively cooled rocket nozzle that is a “rectangular cast iron\n",
    "pipe”, with dimensions of 0.5” x 0.75”. Coolant liquid has a density of 46.75 lb/ft3, and the\n",
    "length of the cooling passage is 40”. The average cooling velocity is 35 ft/sec and the average\n",
    "Reynolds Number of the flow in the cooling passage is Re = 100,000.\n",
    "Calculate the pressure drop in lb/ft2."
   ]
  },
  {
   "cell_type": "code",
   "execution_count": null,
   "metadata": {},
   "outputs": [],
   "source": []
  },
  {
   "cell_type": "markdown",
   "metadata": {},
   "source": [
    "### Question 5"
   ]
  },
  {
   "cell_type": "code",
   "execution_count": 22,
   "metadata": {},
   "outputs": [
    {
     "name": "stdout",
     "output_type": "stream",
     "text": [
      "i: A,B,C\n",
      "ii: D,E\n",
      "iii: D\n",
      "iv: E\n",
      "v: E\n",
      "vi: A\n"
     ]
    }
   ],
   "source": [
    "#all “Open Cycles”\n",
    "print('i:','A,B,C')\n",
    "\n",
    "#all “Closed Cycles”\n",
    "print('ii:','D,E')\n",
    "\n",
    "#The “Expander Cycle\"\n",
    "print('iii:','D')\n",
    "\n",
    "#The “Staged Combustion Cycle”\n",
    "print('iv:','E')\n",
    "\n",
    "#The cycle used on Space Shuttle Main Engines (SSME)\n",
    "print('v:','E')\n",
    "\n",
    "#The cycle used on F-1 (Saturn V) first stage engines\n",
    "print('vi:','A')"
   ]
  },
  {
   "cell_type": "code",
   "execution_count": null,
   "metadata": {},
   "outputs": [],
   "source": []
  }
 ],
 "metadata": {
  "kernelspec": {
   "display_name": "Python 3",
   "language": "python",
   "name": "python3"
  },
  "language_info": {
   "codemirror_mode": {
    "name": "ipython",
    "version": 3
   },
   "file_extension": ".py",
   "mimetype": "text/x-python",
   "name": "python",
   "nbconvert_exporter": "python",
   "pygments_lexer": "ipython3",
   "version": "3.7.4"
  }
 },
 "nbformat": 4,
 "nbformat_minor": 2
}
