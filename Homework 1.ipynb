{
 "cells": [
  {
   "cell_type": "markdown",
   "metadata": {},
   "source": [
    "# AE 771\n",
    "## Henry Hunt"
   ]
  },
  {
   "cell_type": "code",
   "execution_count": 9,
   "metadata": {},
   "outputs": [],
   "source": [
    "#Python Initiation\n",
    "import matplotlib\n",
    "import numpy as np\n",
    "import matplotlib.pyplot as plt\n",
    "\n",
    "#Graph Formatting\n",
    "fig_size = plt.rcParams[\"figure.figsize\"]\n",
    "fig_size[0] = 14\n",
    "fig_size[1] = 10\n",
    "plt.rcParams[\"figure.figsize\"] = fig_size\n",
    "Res=100 #Resoultion of the calulations\n",
    "\n",
    "#Graph Font Edit\n",
    "font = {'family':'Times New Roman',\n",
    "        'weight' : 'bold',\n",
    "        'size'   : 22}\n",
    "matplotlib.rc('font', **font)"
   ]
  },
  {
   "cell_type": "code",
   "execution_count": 10,
   "metadata": {},
   "outputs": [
    {
     "ename": "SyntaxError",
     "evalue": "invalid syntax (<ipython-input-10-59a25c4cdb2f>, line 16)",
     "output_type": "error",
     "traceback": [
      "\u001b[1;36m  File \u001b[1;32m\"<ipython-input-10-59a25c4cdb2f>\"\u001b[1;36m, line \u001b[1;32m16\u001b[0m\n\u001b[1;33m    ρ= #Density\u001b[0m\n\u001b[1;37m               ^\u001b[0m\n\u001b[1;31mSyntaxError\u001b[0m\u001b[1;31m:\u001b[0m invalid syntax\n"
     ]
    }
   ],
   "source": [
    "# Example 2-1 | Page 31\n",
    "\n",
    "Mo=200 #Mass Initial | kg\n",
    "Mf=130 #Mass After Rocket Operation | kg\n",
    "Mpl=110 #Mass of Payload, Nonpropulsive structure\n",
    "t=3 #Rocket Operation Duration | Seconds\n",
    "ΔIsp=240 #Average Specific Impulse of Propellant | Seconds\n",
    "Mp=Mo-Mf #Mass of Propellant\n",
    "\n",
    "ζ=Mp/Mo\n",
    "MR=Mf/Mo\n",
    "\n",
    "\n",
    "\n",
    "\n",
    "ρ= #Density\n",
    "ρh20= #Density of H2O at 4 degrees Celcius\n",
    "SG=ρ/ρh2o #Specific Gravity\n",
    "g=9.81 #Force of Gravity (Usually at sea level)\n",
    "γ=ρ*g #Specific Weight\n"
   ]
  },
  {
   "cell_type": "code",
   "execution_count": null,
   "metadata": {},
   "outputs": [],
   "source": [
    "# Example 2-2 | Page 34\n",
    "\n"
   ]
  },
  {
   "cell_type": "code",
   "execution_count": 11,
   "metadata": {},
   "outputs": [
    {
     "data": {
      "image/png": "[encoded data removed]",
      "text/plain": [
       "<Figure size 432x288 with 1 Axes>"
      ]
     },
     "metadata": {
      "needs_background": "light"
     },
     "output_type": "display_data"
    }
   ],
   "source": [
    "# Homework 3 | Provided as a handout\n",
    "\n",
    "#Plot the variation of thrust and specific impulse againt altitude. Use atmospheric pressure from the text appendix\n",
    "\n",
    "#Initial Variables\n",
    "P2=8.66   #Pressure | psia (Remains constant with altitude)\n",
    "F=194600  #Sea-Level Thrust | lbs\n",
    "Isp=254   #Sea-Level Specific Impulse | Seconds\n",
    "A2=1642   #Area | inches^2\n",
    "g=32.2    #Force of Gravity | ft/s^2\n",
    "P3=14.696\n",
    "\n",
    "#Calculations\n",
    "C=Isp*g\n",
    "mdot=F/C #Using F and C\n",
    "wdot=mdot*g #Using mdot and go\n",
    "V2=(F-((P2-P3)*A2))/mdot #At sea level, using F, mdot, p2, p3, A2.\n",
    "\n",
    "P3=P3*np.array([1,8.87*10**-1,6.6919*10**-1,5.3313*10**-1,2.6151*10**-1,2.5158*10**-2,7.8735*10**-4,2.0408*10**-5,3.1593*10**-7,1.2341*10**-8,2.9997*10**-9,8.3628*10**-10,8.6557*10**-11,1.4328*10**-11,8.1056*10**-13,7.4155*10**-14])\n",
    "Alt=1000*np.array([0,1,3,5,10,25,50,75,100,130,160,200,300,400,600,1000])\n",
    "F=mdot*V2+(P2-P3)*A2\n",
    "Isp=F/wdot\n",
    "\n",
    "#Outputs\n",
    "plt.plot()\n",
    "plt.plot(F,Alt, label=\"Thrust $(lb.)$\",color=\"green\")\n",
    "plt.plot(Isp,Alt, label=\"Specific Impulse $(s)$\",color=\"blue\")\n",
    "plt.legend(bbox_to_anchor=(1.05, 1), loc='upper left', borderaxespad=0.)\n",
    "\n",
    "plt.xlabel(\"Altitude $(ft*10^3)$\")\n",
    "plt.ylabel(\"Unitless? $(km)$\")\n",
    "plt.title(\"Altitude performance of the RS-27 liquid propellant rocket engine\")\n",
    "plt.show()"
   ]
  },
  {
   "attachments": {},
   "cell_type": "markdown",
   "metadata": {},
   "source": []
  },
  {
   "cell_type": "code",
   "execution_count": null,
   "metadata": {},
   "outputs": [],
   "source": []
  }
 ],
 "metadata": {
  "kernelspec": {
   "display_name": "Python 3",
   "language": "python",
   "name": "python3"
  },
  "language_info": {
   "codemirror_mode": {
    "name": "ipython",
    "version": 3
   },
   "file_extension": ".py",
   "mimetype": "text/x-python",
   "name": "python",
   "nbconvert_exporter": "python",
   "pygments_lexer": "ipython3",
   "version": "3.7.4"
  }
 },
 "nbformat": 4,
 "nbformat_minor": 2
}
