{
 "cells": [
  {
   "cell_type": "markdown",
   "metadata": {},
   "source": [
    "# AE 771 | Homework \\#11 | Rocket Propulsion | Ray Taghavi\n",
    "### Code Written by Henry Hunt"
   ]
  },
  {
   "cell_type": "code",
   "execution_count": 8,
   "metadata": {},
   "outputs": [],
   "source": [
    "#Importing Libraries\n",
    "import matplotlib\n",
    "import numpy as np\n",
    "import matplotlib.pyplot as plt\n",
    "import plotly.graph_objects as go\n",
    "from sympy import Symbol\n",
    "import time\n",
    "import math\n",
    "\n",
    "#Graph Formatting\n",
    "fig_size = plt.rcParams[\"figure.figsize\"]\n",
    "fig_size[0] = 14\n",
    "fig_size[1] = 10\n",
    "plt.rcParams[\"figure.figsize\"] = fig_size\n",
    "\n",
    "#Graph Font Edit\n",
    "font = {'family':'Times New Roman',\n",
    "        'weight' : 'bold',\n",
    "        'size'   : 22}\n",
    "matplotlib.rc('font', **font)"
   ]
  },
  {
   "cell_type": "code",
   "execution_count": 9,
   "metadata": {},
   "outputs": [],
   "source": [
    "#Question 1\n",
    "#Part A | Reproduce Figure 4.6\n",
    "\n",
    "\n",
    "\n",
    "#Part B | Calculate the orbital velocity and escape velocity at the distances above Earth\n",
    "d1 = 200  #Distance above Earth 1 | miles\n",
    "d2 = 2150 #Distance above Earth 2 | miles\n",
    "\n",
    "#Part C | Calcualte the orbit altitude for geostationary and geo-synchronous satellites\n",
    "re = 4000 #Mean Radius of the Earth | miles\n",
    "\n"
   ]
  },
  {
   "cell_type": "code",
   "execution_count": 28,
   "metadata": {},
   "outputs": [
    {
     "name": "stdout",
     "output_type": "stream",
     "text": [
      "The achievable velocity increment is 22242.97 ft/s\n"
     ]
    }
   ],
   "source": [
    "#Question 2\n",
    "#Part A | Determine velocity increment achievable for single stage system\n",
    "mi = 25000 #Initial mass | lbm\n",
    "ms = 2000  #Structural mass | lbm\n",
    "mp = 500   #Payload mass | lbm\n",
    "Isp = 300  #Specific impulse | sec\n",
    "\n",
    "#Single Stage Change in Velocity Equations\n",
    "    #c = 0\n",
    "ζ = 0.95 #0.99 for multi\n",
    "MR = 0.05 #0.01 for multi\n",
    "    #go = 0\n",
    "    #l = 0 #Payload Fraction\n",
    "    #Δu = -c*ln(1-ζ)\n",
    "    #Δu = -c*ln(MR)\n",
    "    #Δu = c*ln(1/MR)\n",
    "    #Δu = Isp*go*ln(1/MR)\n",
    "    \n",
    "#Calculation Process\n",
    "s = ms/mi                  #Structural Fraction\n",
    "l = mp/mi                  #Payload Fraction\n",
    "go = 32.2                  #Gravitational Constant | ft/s^2\n",
    "Δu = Isp*go*np.log(1/(s+l))#Velocity increment | ft/s\n",
    "print('The achievable velocity increment is',round(Δu,2),'ft/s')\n",
    "\n",
    "#Part B | If the vehicle reaches an altitude of 200 miles can it obtain orbital velocity?\n"
   ]
  },
  {
   "cell_type": "code",
   "execution_count": 22,
   "metadata": {},
   "outputs": [
    {
     "name": "stdout",
     "output_type": "stream",
     "text": [
      "5439.81907303445\n",
      "The mass of the first stage propellant is 119.75 kg.\n",
      "The total mass at lift-off of the vehicle is 22119.75 kg.\n"
     ]
    }
   ],
   "source": [
    "#Question 3\n",
    "# Two Stage booster at Kennedy Space Center\n",
    "vdes = 10000 #Deisgn Velocity of Booster | m/s\n",
    "ms2 = 12000  #Mass of the second stage including structure and propellant | kg\n",
    "ms2p = 9000  #Mass of just the stage 2 propellant | kg\n",
    "mp = 2000    #Mass of the payload | kg\n",
    "Isp1 = 350   #Isp of the first stage | sec\n",
    "Isp2 = 400   #Isp of the second stage |sec\n",
    "go =9.81     #Gravity | m/sec^2\n",
    "ms1 = 8000   #Mass of stage 1 structural components | kg\n",
    "#What mass of propellant must be loaded on the first stage to achieve the required design velocity?\n",
    "l1 = mp/ms1\n",
    "l2 = 0 #Payload Fraction\n",
    "s2 = (ms2-ms2p)/ms2 #Structural Fraction\n",
    "#Δu1 = Isp*go*ln(1/(s1+l1))\n",
    "Δu2 = Isp2*go*np.log(1/(s2+l2))\n",
    "Δu1 = vdes - Δu2\n",
    "ms1f = ((np.exp((Δu1/Isp1)/go))**(-1)-l1)*ms1  #Mass of the stage 1 fuel | kg\n",
    "print(Δu2)\n",
    "print(\"The mass of the first stage propellant is\",round(ms1f,2),\"kg.\")\n",
    "\n",
    "\n",
    "#What is the vehicles total mass at lift-off?\n",
    "mtot = (ms2 + mp + ms1 + ms1f)\n",
    "print(\"The total mass at lift-off of the vehicle is\",round(mtot,2),\"kg.\")"
   ]
  },
  {
   "cell_type": "code",
   "execution_count": null,
   "metadata": {},
   "outputs": [],
   "source": []
  }
 ],
 "metadata": {
  "kernelspec": {
   "display_name": "Python 3",
   "language": "python",
   "name": "python3"
  },
  "language_info": {
   "codemirror_mode": {
    "name": "ipython",
    "version": 3
   },
   "file_extension": ".py",
   "mimetype": "text/x-python",
   "name": "python",
   "nbconvert_exporter": "python",
   "pygments_lexer": "ipython3",
   "version": "3.7.4"
  }
 },
 "nbformat": 4,
 "nbformat_minor": 2
}
